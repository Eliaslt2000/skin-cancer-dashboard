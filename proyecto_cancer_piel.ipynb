{
 "cells": [
  {
   "cell_type": "markdown",
   "id": "a4059df8-5dc8-4478-bc91-69dacceb5cdb",
   "metadata": {},
   "source": [
    "Este proyecto busca crear un modelo el cual detecte el cancer en la piel mediante datos estructurados (registros medicos de pacientes) y datos no estructurados(imagenes de la piel de los pacientes)"
   ]
  },
  {
   "cell_type": "markdown",
   "id": "593ba415-a3b5-4628-a147-1f5885c6806c",
   "metadata": {},
   "source": [
    "1. *Importacion de librerias *\n"
   ]
  },
  {
   "cell_type": "code",
   "execution_count": 14,
   "id": "918a95d7-556a-4ba8-89c6-674e42d9a364",
   "metadata": {
    "tags": []
   },
   "outputs": [],
   "source": [
    "#Estaremos importando las librerias necesarias para el analisis exploratorio de los datos (EDA) y extraer la informacion\n",
    "    #tomar en cuenta que mas adelante se importaran librerias para ML\n",
    "import pandas as pd\n",
    "import numpy as np\n",
    "import matplotlib.pyplot as plt\n",
    "import seaborn as sns\n",
    "import requests as rq \n",
    "import os \n",
    "import json\n",
    "import time"
   ]
  },
  {
   "cell_type": "markdown",
   "id": "5e5eb134-d2b2-4094-8308-ccede1d27ba8",
   "metadata": {},
   "source": [
    "2. *Importacion de datos no estructurados*"
   ]
  },
  {
   "cell_type": "code",
   "execution_count": null,
   "id": "75d3ae09-d225-4fcd-8c9e-7f55f24bcf15",
   "metadata": {
    "tags": []
   },
   "outputs": [
    {
     "name": "stdout",
     "output_type": "stream",
     "text": [
      "⚠️ No hay archivo anterior, se creará uno nuevo.\n",
      "🔄 Descargando página 1/30...\n",
      "🔄 Descargando página 2/30...\n",
      "🔄 Descargando página 3/30...\n",
      "🔄 Descargando página 4/30...\n",
      "🔄 Descargando página 5/30...\n",
      "🔄 Descargando página 6/30...\n",
      "🔄 Descargando página 7/30...\n",
      "🔄 Descargando página 8/30...\n",
      "🔄 Descargando página 9/30...\n",
      "🔄 Descargando página 10/30...\n"
     ]
    }
   ],
   "source": [
    "#Uso de la APIimport requests\n",
    "\n",
    "# Diagnósticos que nos interesan\n",
    "tipos_deseados = [\"melanoma\", \"basal cell carcinoma\", \"squamous cell carcinoma\"]\n",
    "\n",
    "# Configuración de la API\n",
    "base_url = \"https://api.isic-archive.com/api/v2/images\"\n",
    "limit = 100  # cantidad por página\n",
    "max_pages = 30  # número máximo de páginas a recorrer (ajustable)\n",
    "\n",
    "nuevos_registros = []\n",
    "\n",
    "archivo_csv=\"data_completa\"\n",
    "\n",
    "if os.path.exists(archivo_csv):\n",
    "    df_existente= pd.read(archivo_csv)\n",
    "    ids_existentes=set(df_existente[\"isic_id\"])\n",
    "    print(f\"✅ Se cargaron {len(ids_existentes)} registros existentes.\")\n",
    "else:\n",
    "    df_existente= pd.DataFrame()\n",
    "    ids_existentes= set()\n",
    "    print(\"⚠️ No hay archivo anterior, se creará uno nuevo.\")\n",
    "\n",
    "for page in range(max_pages):\n",
    "    print(f\"🔄 Descargando página {page + 1}/{max_pages}...\")\n",
    "    #Conectar a la api\n",
    "    url = f\"{base_url}?limit={limit}&offset={page * limit}\"\n",
    "    response= rq.get(url)\n",
    "    #Verificar que todo este correcto, 200= Ok\n",
    "    if response.status_code != 200:\n",
    "        print(f\"❌ Error en la página {page + 1}: {response.status_code}\")\n",
    "        break\n",
    "    \n",
    "    # Convertimos la respuesta a JSON y sacamos los resultados\n",
    "    data= response.json()[\"results\"]\n",
    "    #Recorremos cada imagen\n",
    "    for img in data:\n",
    "        isic_id= img.get(\"isic_id\")\n",
    "        if isic_id in ids_existentes:\n",
    "            continue\n",
    "        #extraer datos clinicos\n",
    "        clinical= img.get(\"metadata\", {}).get(\"clinical\", {})\n",
    "        diagnosis=clinical.get(\"diagnosis_2\",\"\")\n",
    "        \n",
    "        #saltar si no tiene diagnosticos\n",
    "        if diagnosis==\"\":\n",
    "            continue\n",
    "        nuevos_registros.append({\"isic_id\": isic_id,\n",
    "            \"sexo\": clinical.get(\"sex\"),\n",
    "            \"edad\": clinical.get(\"age_approx\"),\n",
    "            \"zona_general\": clinical.get(\"anatom_site_general\"),\n",
    "            \"diagnostico\": diagnosis,\n",
    "            \"resolucion_x\": img.get(\"metadata\", {}).get(\"acquisition\", {}).get(\"pixels_x\"),\n",
    "            \"resolucion_y\": img.get(\"metadata\", {}).get(\"acquisition\", {}).get(\"pixels_y\"),\n",
    "            \"url_imagen\": img.get(\"files\", {}).get(\"full\", {}).get(\"url\")\n",
    "        })\n",
    "        \n",
    "        time.sleep(0.5)\n",
    "df_nuevos=pd.DataFrame(nuevos_registros)\n",
    "df_final= pd.concat([df_existentes,df_nuevos],ignore_index=True)\n",
    "\n",
    "df_final.to_csv(archivo_csv,index=False)\n",
    "print(\"\\n✅ Proceso completado.\")\n",
    "print(f\"📥 Nuevos registros añadidos: {len(df_nuevos)}\")\n",
    "print(f\"📦 Total de registros en el archivo: {len(df_final)}\")\n",
    "        "
   ]
  },
  {
   "cell_type": "code",
   "execution_count": 28,
   "id": "2273601f-1577-43bf-828b-c36144823bef",
   "metadata": {
    "tags": []
   },
   "outputs": [
    {
     "data": {
      "text/plain": [
       "array(['Malignant melanocytic proliferations (Melanoma)'], dtype=object)"
      ]
     },
     "execution_count": 28,
     "metadata": {},
     "output_type": "execute_result"
    }
   ],
   "source": [
    "df[\"diagnostico\"].unique()"
   ]
  }
 ],
 "metadata": {
  "kernelspec": {
   "display_name": "Python 3 (ipykernel)",
   "language": "python",
   "name": "python3"
  },
  "language_info": {
   "codemirror_mode": {
    "name": "ipython",
    "version": 3
   },
   "file_extension": ".py",
   "mimetype": "text/x-python",
   "name": "python",
   "nbconvert_exporter": "python",
   "pygments_lexer": "ipython3",
   "version": "3.11.5"
  }
 },
 "nbformat": 4,
 "nbformat_minor": 5
}
